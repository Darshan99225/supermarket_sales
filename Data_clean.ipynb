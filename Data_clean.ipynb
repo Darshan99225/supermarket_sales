{
 "cells": [
  {
   "cell_type": "code",
   "execution_count": 53,
   "metadata": {},
   "outputs": [],
   "source": [
    "#libraries\n",
    "import pandas as pd\n",
    "import numpy as np\n",
    "import matplotlib.pyplot as plt\n",
    "import seaborn as sns"
   ]
  },
  {
   "cell_type": "code",
   "execution_count": 4,
   "metadata": {},
   "outputs": [
    {
     "data": {
      "text/html": [
       "<div>\n",
       "<style scoped>\n",
       "    .dataframe tbody tr th:only-of-type {\n",
       "        vertical-align: middle;\n",
       "    }\n",
       "\n",
       "    .dataframe tbody tr th {\n",
       "        vertical-align: top;\n",
       "    }\n",
       "\n",
       "    .dataframe thead th {\n",
       "        text-align: right;\n",
       "    }\n",
       "</style>\n",
       "<table border=\"1\" class=\"dataframe\">\n",
       "  <thead>\n",
       "    <tr style=\"text-align: right;\">\n",
       "      <th></th>\n",
       "      <th>Invoice ID</th>\n",
       "      <th>Branch</th>\n",
       "      <th>City</th>\n",
       "      <th>Customer type</th>\n",
       "      <th>Gender</th>\n",
       "      <th>Product line</th>\n",
       "      <th>Unit price</th>\n",
       "      <th>Quantity</th>\n",
       "      <th>Tax 5%</th>\n",
       "      <th>Total</th>\n",
       "      <th>Date</th>\n",
       "      <th>Time</th>\n",
       "      <th>Payment</th>\n",
       "      <th>cogs</th>\n",
       "      <th>gross margin percentage</th>\n",
       "      <th>gross income</th>\n",
       "      <th>Rating</th>\n",
       "    </tr>\n",
       "  </thead>\n",
       "  <tbody>\n",
       "    <tr>\n",
       "      <th>475</th>\n",
       "      <td>502-05-1910</td>\n",
       "      <td>A</td>\n",
       "      <td>Yangon</td>\n",
       "      <td>Normal</td>\n",
       "      <td>Male</td>\n",
       "      <td>Health and beauty</td>\n",
       "      <td>65.18</td>\n",
       "      <td>3</td>\n",
       "      <td>9.7770</td>\n",
       "      <td>205.3170</td>\n",
       "      <td>2/25/2019</td>\n",
       "      <td>20:35</td>\n",
       "      <td>Credit card</td>\n",
       "      <td>195.54</td>\n",
       "      <td>4.761905</td>\n",
       "      <td>9.7770</td>\n",
       "      <td>6.3</td>\n",
       "    </tr>\n",
       "    <tr>\n",
       "      <th>704</th>\n",
       "      <td>640-48-5028</td>\n",
       "      <td>B</td>\n",
       "      <td>Mandalay</td>\n",
       "      <td>Member</td>\n",
       "      <td>Female</td>\n",
       "      <td>Home and lifestyle</td>\n",
       "      <td>88.39</td>\n",
       "      <td>9</td>\n",
       "      <td>39.7755</td>\n",
       "      <td>835.2855</td>\n",
       "      <td>3/2/2019</td>\n",
       "      <td>12:40</td>\n",
       "      <td>Cash</td>\n",
       "      <td>795.51</td>\n",
       "      <td>4.761905</td>\n",
       "      <td>39.7755</td>\n",
       "      <td>6.3</td>\n",
       "    </tr>\n",
       "    <tr>\n",
       "      <th>35</th>\n",
       "      <td>232-16-2483</td>\n",
       "      <td>C</td>\n",
       "      <td>Naypyitaw</td>\n",
       "      <td>Member</td>\n",
       "      <td>Female</td>\n",
       "      <td>Sports and travel</td>\n",
       "      <td>68.12</td>\n",
       "      <td>1</td>\n",
       "      <td>3.4060</td>\n",
       "      <td>71.5260</td>\n",
       "      <td>1/7/2019</td>\n",
       "      <td>12:28</td>\n",
       "      <td>Ewallet</td>\n",
       "      <td>68.12</td>\n",
       "      <td>4.761905</td>\n",
       "      <td>3.4060</td>\n",
       "      <td>6.8</td>\n",
       "    </tr>\n",
       "    <tr>\n",
       "      <th>638</th>\n",
       "      <td>364-33-8584</td>\n",
       "      <td>B</td>\n",
       "      <td>Mandalay</td>\n",
       "      <td>Member</td>\n",
       "      <td>Female</td>\n",
       "      <td>Food and beverages</td>\n",
       "      <td>17.63</td>\n",
       "      <td>5</td>\n",
       "      <td>4.4075</td>\n",
       "      <td>92.5575</td>\n",
       "      <td>3/8/2019</td>\n",
       "      <td>15:27</td>\n",
       "      <td>Cash</td>\n",
       "      <td>88.15</td>\n",
       "      <td>4.761905</td>\n",
       "      <td>4.4075</td>\n",
       "      <td>8.5</td>\n",
       "    </tr>\n",
       "    <tr>\n",
       "      <th>134</th>\n",
       "      <td>483-71-1164</td>\n",
       "      <td>C</td>\n",
       "      <td>Naypyitaw</td>\n",
       "      <td>Normal</td>\n",
       "      <td>Female</td>\n",
       "      <td>Health and beauty</td>\n",
       "      <td>81.30</td>\n",
       "      <td>6</td>\n",
       "      <td>24.3900</td>\n",
       "      <td>512.1900</td>\n",
       "      <td>3/8/2019</td>\n",
       "      <td>16:43</td>\n",
       "      <td>Ewallet</td>\n",
       "      <td>487.80</td>\n",
       "      <td>4.761905</td>\n",
       "      <td>24.3900</td>\n",
       "      <td>5.3</td>\n",
       "    </tr>\n",
       "  </tbody>\n",
       "</table>\n",
       "</div>"
      ],
      "text/plain": [
       "      Invoice ID Branch       City Customer type  Gender        Product line  \\\n",
       "475  502-05-1910      A     Yangon        Normal    Male   Health and beauty   \n",
       "704  640-48-5028      B   Mandalay        Member  Female  Home and lifestyle   \n",
       "35   232-16-2483      C  Naypyitaw        Member  Female   Sports and travel   \n",
       "638  364-33-8584      B   Mandalay        Member  Female  Food and beverages   \n",
       "134  483-71-1164      C  Naypyitaw        Normal  Female   Health and beauty   \n",
       "\n",
       "     Unit price  Quantity   Tax 5%     Total       Date   Time      Payment  \\\n",
       "475       65.18         3   9.7770  205.3170  2/25/2019  20:35  Credit card   \n",
       "704       88.39         9  39.7755  835.2855   3/2/2019  12:40         Cash   \n",
       "35        68.12         1   3.4060   71.5260   1/7/2019  12:28      Ewallet   \n",
       "638       17.63         5   4.4075   92.5575   3/8/2019  15:27         Cash   \n",
       "134       81.30         6  24.3900  512.1900   3/8/2019  16:43      Ewallet   \n",
       "\n",
       "       cogs  gross margin percentage  gross income  Rating  \n",
       "475  195.54                 4.761905        9.7770     6.3  \n",
       "704  795.51                 4.761905       39.7755     6.3  \n",
       "35    68.12                 4.761905        3.4060     6.8  \n",
       "638   88.15                 4.761905        4.4075     8.5  \n",
       "134  487.80                 4.761905       24.3900     5.3  "
      ]
     },
     "execution_count": 4,
     "metadata": {},
     "output_type": "execute_result"
    }
   ],
   "source": [
    "str_sales = pd.read_csv(\"supermarket_sales.csv\")\n",
    "str_sales.sample(5)"
   ]
  },
  {
   "cell_type": "code",
   "execution_count": 47,
   "metadata": {},
   "outputs": [
    {
     "data": {
      "text/plain": [
       "(1000, 17)"
      ]
     },
     "execution_count": 47,
     "metadata": {},
     "output_type": "execute_result"
    }
   ],
   "source": [
    "df = str_sales.copy()\n",
    "df.shape"
   ]
  },
  {
   "cell_type": "code",
   "execution_count": 48,
   "metadata": {},
   "outputs": [
    {
     "data": {
      "text/plain": [
       "Index(['Invoice ID', 'Branch', 'City', 'Customer type', 'Gender',\n",
       "       'Product line', 'Unit price', 'Quantity', 'Tax 5%', 'Total', 'Date',\n",
       "       'Time', 'Payment', 'cogs', 'gross margin percentage', 'gross income',\n",
       "       'Rating'],\n",
       "      dtype='object')"
      ]
     },
     "execution_count": 48,
     "metadata": {},
     "output_type": "execute_result"
    }
   ],
   "source": [
    "df.columns"
   ]
  },
  {
   "cell_type": "code",
   "execution_count": 50,
   "metadata": {},
   "outputs": [
    {
     "data": {
      "text/plain": [
       "A    340\n",
       "B    332\n",
       "C    328\n",
       "Name: Branch, dtype: int64"
      ]
     },
     "execution_count": 50,
     "metadata": {},
     "output_type": "execute_result"
    }
   ],
   "source": [
    "category_counts = df['Branch'].value_counts()\n",
    "category_counts\n"
   ]
  },
  {
   "cell_type": "code",
   "execution_count": 55,
   "metadata": {},
   "outputs": [
    {
     "data": {
      "image/png": "[encoded data removed]",
      "text/plain": [
       "<Figure size 500x500 with 1 Axes>"
      ]
     },
     "metadata": {},
     "output_type": "display_data"
    }
   ],
   "source": [
    "fig, axs = plt.subplots(figsize=(5, 5))\n",
    "axs.pie(category_counts,labels=category_counts.index, autopct='%1.1f%%',startangle=140,colors=sns.color_palette('coolwarm', len(category_counts)),wedgeprops={'edgecolor': 'black', 'linewidth': 2})\n",
    "plt.tight_layout()\n",
    "plt.show()"
   ]
  },
  {
   "cell_type": "code",
   "execution_count": null,
   "metadata": {},
   "outputs": [],
   "source": []
  }
 ],
 "metadata": {
  "kernelspec": {
   "display_name": "Python 3",
   "language": "python",
   "name": "python3"
  },
  "language_info": {
   "codemirror_mode": {
    "name": "ipython",
    "version": 3
   },
   "file_extension": ".py",
   "mimetype": "text/x-python",
   "name": "python",
   "nbconvert_exporter": "python",
   "pygments_lexer": "ipython3",
   "version": "3.11.0"
  }
 },
 "nbformat": 4,
 "nbformat_minor": 2
}
